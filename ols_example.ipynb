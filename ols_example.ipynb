{
 "cells": [
  {
   "cell_type": "code",
   "execution_count": null,
   "metadata": {},
   "outputs": [],
   "source": [
    "import pandas as pd\n",
    "import numpy as np\n",
    "import matplotlib.pyplot as plt\n",
    "import statsmodels.tsa.stattools as ts\n",
    "import statsmodels.api as sm \n",
    "\n",
    "import statsmodels.formula.api as smf "
   ]
  },
  {
   "cell_type": "code",
   "execution_count": null,
   "metadata": {},
   "outputs": [],
   "source": [
    "x_values = pd.DataFrame({\"x\": np.array([2, 3, 4, 6, 7, 9, 10, 11])})\n",
    "y_values = pd.DataFrame({\"y\": np.array([23, 34, 45, 67, 78, 100, 111, 122])})\n",
    "print(type(x_values['x']))\n",
    "print(x_values.T, type(x_values))\n",
    "print(y_values.T, type(y_values))"
   ]
  },
  {
   "cell_type": "code",
   "execution_count": null,
   "metadata": {},
   "outputs": [],
   "source": [
    "# x=sm.add_constant(x_values['x'])\n",
    "x = sm.add_constant(x_values)\n",
    "# y=y_values['y']\n",
    "res=sm.OLS(y_values,x).fit() \n",
    "print(res.params)"
   ]
  },
  {
   "cell_type": "code",
   "execution_count": null,
   "metadata": {},
   "outputs": [],
   "source": [
    "df = x_values.join(y_values)\n",
    "print(df)\n",
    "res = smf.ols(formula='y~x', data=df).fit()\n",
    "# print(res.summary()) \n",
    "print(res.params)"
   ]
  }
 ],
 "metadata": {
  "kernelspec": {
   "display_name": "Python 3",
   "language": "python",
   "name": "python3"
  },
  "language_info": {
   "codemirror_mode": {
    "name": "ipython",
    "version": 3
   },
   "file_extension": ".py",
   "mimetype": "text/x-python",
   "name": "python",
   "nbconvert_exporter": "python",
   "pygments_lexer": "ipython3",
   "version": "3.6.3"
  }
 },
 "nbformat": 4,
 "nbformat_minor": 2
}
