{
 "cells": [
  {
   "cell_type": "code",
   "execution_count": 58,
   "metadata": {},
   "outputs": [],
   "source": [
    "import pandas as pd\n",
    "import numpy as np\n",
    "import matplotlib.pyplot as plt\n",
    "import statsmodels.tsa.stattools as ts\n",
    "import statsmodels.api as sm \n",
    "\n",
    "import statsmodels.formula.api as smf "
   ]
  },
  {
   "cell_type": "code",
   "execution_count": 59,
   "metadata": {},
   "outputs": [
    {
     "name": "stdout",
     "output_type": "stream",
     "text": [
      "<class 'pandas.core.series.Series'>\n",
      "   0  1  2  3  4  5   6   7\n",
      "x  2  3  4  6  7  9  10  11 <class 'pandas.core.frame.DataFrame'>\n",
      "    0   1   2   3   4    5    6    7\n",
      "y  23  34  45  67  78  100  111  122 <class 'pandas.core.frame.DataFrame'>\n"
     ]
    }
   ],
   "source": [
    "x_values = pd.DataFrame({\"x\": np.array([2, 3, 4, 6, 7, 9, 10, 11])})\n",
    "y_values = pd.DataFrame({\"y\": np.array([23, 34, 45, 67, 78, 100, 111, 122])})\n",
    "print(type(x_values['x']))\n",
    "print(x_values.T, type(x_values))\n",
    "print(y_values.T, type(y_values))"
   ]
  },
  {
   "cell_type": "code",
   "execution_count": 60,
   "metadata": {},
   "outputs": [
    {
     "name": "stdout",
     "output_type": "stream",
     "text": [
      "const     1.0\n",
      "x        11.0\n",
      "dtype: float64\n"
     ]
    }
   ],
   "source": [
    "# x=sm.add_constant(x_values['x'])\n",
    "x = sm.add_constant(x_values)\n",
    "# y=y_values['y']\n",
    "res=sm.OLS(y_values,x).fit() \n",
    "print(res.params)"
   ]
  },
  {
   "cell_type": "code",
   "execution_count": 61,
   "metadata": {},
   "outputs": [
    {
     "name": "stdout",
     "output_type": "stream",
     "text": [
      "    x    y\n",
      "0   2   23\n",
      "1   3   34\n",
      "2   4   45\n",
      "3   6   67\n",
      "4   7   78\n",
      "5   9  100\n",
      "6  10  111\n",
      "7  11  122\n",
      "Intercept     1.0\n",
      "x            11.0\n",
      "dtype: float64\n"
     ]
    }
   ],
   "source": [
    "df = x_values.join(y_values)\n",
    "print(df)\n",
    "# df.plot()\n",
    "# plt.show()\n",
    "res = smf.ols(formula='y~x', data=df).fit()\n",
    "# print(res.summary()) \n",
    "print(res.params)\n"
   ]
  }
 ],
 "metadata": {
  "kernelspec": {
   "display_name": "Python 3",
   "language": "python",
   "name": "python3"
  },
  "language_info": {
   "codemirror_mode": {
    "name": "ipython",
    "version": 3
   },
   "file_extension": ".py",
   "mimetype": "text/x-python",
   "name": "python",
   "nbconvert_exporter": "python",
   "pygments_lexer": "ipython3",
   "version": "3.6.3"
  }
 },
 "nbformat": 4,
 "nbformat_minor": 2
}
